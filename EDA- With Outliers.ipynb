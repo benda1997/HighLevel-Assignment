{
 "cells": [
  {
   "cell_type": "code",
   "execution_count": 2,
   "id": "74d3c540",
   "metadata": {},
   "outputs": [],
   "source": [
    "import pandas as pd\n",
    "data=pd.read_csv(\"books_task.csv\")\n"
   ]
  },
  {
   "cell_type": "code",
   "execution_count": 3,
   "id": "25cd45b9",
   "metadata": {},
   "outputs": [
    {
     "data": {
      "text/html": [
       "<div>\n",
       "<style scoped>\n",
       "    .dataframe tbody tr th:only-of-type {\n",
       "        vertical-align: middle;\n",
       "    }\n",
       "\n",
       "    .dataframe tbody tr th {\n",
       "        vertical-align: top;\n",
       "    }\n",
       "\n",
       "    .dataframe thead th {\n",
       "        text-align: right;\n",
       "    }\n",
       "</style>\n",
       "<table border=\"1\" class=\"dataframe\">\n",
       "  <thead>\n",
       "    <tr style=\"text-align: right;\">\n",
       "      <th></th>\n",
       "      <th>Unnamed: 0</th>\n",
       "      <th>Title</th>\n",
       "      <th>description</th>\n",
       "      <th>authors</th>\n",
       "      <th>publisher</th>\n",
       "      <th>publishedDate</th>\n",
       "      <th>categories</th>\n",
       "      <th>Impact</th>\n",
       "    </tr>\n",
       "  </thead>\n",
       "  <tbody>\n",
       "    <tr>\n",
       "      <th>0</th>\n",
       "      <td>0</td>\n",
       "      <td>Its Only Art If Its Well Hung!</td>\n",
       "      <td>NaN</td>\n",
       "      <td>['Julie Strain']</td>\n",
       "      <td>Smithsonian Institution</td>\n",
       "      <td>1996</td>\n",
       "      <td>['Comics &amp; Graphic Novels']</td>\n",
       "      <td>784.303924</td>\n",
       "    </tr>\n",
       "    <tr>\n",
       "      <th>1</th>\n",
       "      <td>1</td>\n",
       "      <td>Dr. Seuss: American Icon</td>\n",
       "      <td>Philip Nel takes a fascinating look into the k...</td>\n",
       "      <td>['Philip Nel']</td>\n",
       "      <td>A&amp;C Black</td>\n",
       "      <td>2005-01-01</td>\n",
       "      <td>['Biography &amp; Autobiography']</td>\n",
       "      <td>825.465535</td>\n",
       "    </tr>\n",
       "    <tr>\n",
       "      <th>2</th>\n",
       "      <td>2</td>\n",
       "      <td>Wonderful Worship in Smaller Churches</td>\n",
       "      <td>This resource includes twelve principles in un...</td>\n",
       "      <td>['David R. Ray']</td>\n",
       "      <td>OUP USA</td>\n",
       "      <td>2000</td>\n",
       "      <td>['Religion']</td>\n",
       "      <td>841.705321</td>\n",
       "    </tr>\n",
       "    <tr>\n",
       "      <th>3</th>\n",
       "      <td>3</td>\n",
       "      <td>Whispers of the Wicked Saints</td>\n",
       "      <td>Julia Thomas finds her life spinning out of co...</td>\n",
       "      <td>['Veronica Haddon']</td>\n",
       "      <td>iUniverse</td>\n",
       "      <td>2005-02</td>\n",
       "      <td>['Fiction']</td>\n",
       "      <td>666.426542</td>\n",
       "    </tr>\n",
       "    <tr>\n",
       "      <th>4</th>\n",
       "      <td>5</td>\n",
       "      <td>The Church of Christ: A Biblical Ecclesiology ...</td>\n",
       "      <td>In The Church of Christ: A Biblical Ecclesiolo...</td>\n",
       "      <td>['Everett Ferguson']</td>\n",
       "      <td>Wm. B. Eerdmans Publishing</td>\n",
       "      <td>1996</td>\n",
       "      <td>['Religion']</td>\n",
       "      <td>806.216143</td>\n",
       "    </tr>\n",
       "  </tbody>\n",
       "</table>\n",
       "</div>"
      ],
      "text/plain": [
       "   Unnamed: 0                                              Title  \\\n",
       "0           0                     Its Only Art If Its Well Hung!   \n",
       "1           1                           Dr. Seuss: American Icon   \n",
       "2           2              Wonderful Worship in Smaller Churches   \n",
       "3           3                      Whispers of the Wicked Saints   \n",
       "4           5  The Church of Christ: A Biblical Ecclesiology ...   \n",
       "\n",
       "                                         description               authors  \\\n",
       "0                                                NaN      ['Julie Strain']   \n",
       "1  Philip Nel takes a fascinating look into the k...        ['Philip Nel']   \n",
       "2  This resource includes twelve principles in un...      ['David R. Ray']   \n",
       "3  Julia Thomas finds her life spinning out of co...   ['Veronica Haddon']   \n",
       "4  In The Church of Christ: A Biblical Ecclesiolo...  ['Everett Ferguson']   \n",
       "\n",
       "                    publisher publishedDate                     categories  \\\n",
       "0     Smithsonian Institution          1996    ['Comics & Graphic Novels']   \n",
       "1                   A&C Black    2005-01-01  ['Biography & Autobiography']   \n",
       "2                     OUP USA          2000                   ['Religion']   \n",
       "3                   iUniverse       2005-02                    ['Fiction']   \n",
       "4  Wm. B. Eerdmans Publishing          1996                   ['Religion']   \n",
       "\n",
       "       Impact  \n",
       "0  784.303924  \n",
       "1  825.465535  \n",
       "2  841.705321  \n",
       "3  666.426542  \n",
       "4  806.216143  "
      ]
     },
     "execution_count": 3,
     "metadata": {},
     "output_type": "execute_result"
    }
   ],
   "source": [
    "data.head()"
   ]
  },
  {
   "cell_type": "code",
   "execution_count": 4,
   "id": "8693c78a",
   "metadata": {},
   "outputs": [
    {
     "name": "stdout",
     "output_type": "stream",
     "text": [
      "(138724, 8)\n",
      "138724\n",
      "116931\n",
      "10819\n",
      "97801\n",
      "12855\n",
      "100\n"
     ]
    }
   ],
   "source": [
    "print(data.shape)\n",
    "print(data['Title'].nunique())\n",
    "print(data['description'].nunique())\n",
    "print(data['publishedDate'].nunique())\n",
    "\n",
    "print(data['authors'].nunique())\n",
    "print(data['publisher'].nunique())\n",
    "print(data['categories'].nunique())\n",
    "\n",
    "\n"
   ]
  },
  {
   "cell_type": "code",
   "execution_count": null,
   "id": "e1bab772",
   "metadata": {},
   "outputs": [],
   "source": []
  },
  {
   "cell_type": "code",
   "execution_count": 5,
   "id": "04f6ebab",
   "metadata": {},
   "outputs": [
    {
     "data": {
      "image/png": "[encoded data removed]",
      "text/plain": [
       "<Figure size 432x288 with 1 Axes>"
      ]
     },
     "metadata": {
      "needs_background": "light"
     },
     "output_type": "display_data"
    }
   ],
   "source": [
    "import matplotlib.pyplot as plt\n",
    "plt.hist(data['Impact']);"
   ]
  },
  {
   "cell_type": "code",
   "execution_count": 78,
   "id": "a4817bdd",
   "metadata": {},
   "outputs": [
    {
     "data": {
      "text/plain": [
       "count    138724.000000\n",
       "mean        786.763662\n",
       "std          63.640350\n",
       "min           0.000000\n",
       "25%         763.039309\n",
       "50%         805.568540\n",
       "75%         819.108336\n",
       "max        1000.000000\n",
       "Name: Impact, dtype: float64"
      ]
     },
     "execution_count": 78,
     "metadata": {},
     "output_type": "execute_result"
    }
   ],
   "source": [
    "data['Impact'].describe()"
   ]
  },
  {
   "cell_type": "code",
   "execution_count": 93,
   "id": "ec7ec63c",
   "metadata": {
    "scrolled": true
   },
   "outputs": [
    {
     "data": {
      "text/html": [
       "<div>\n",
       "<style scoped>\n",
       "    .dataframe tbody tr th:only-of-type {\n",
       "        vertical-align: middle;\n",
       "    }\n",
       "\n",
       "    .dataframe tbody tr th {\n",
       "        vertical-align: top;\n",
       "    }\n",
       "\n",
       "    .dataframe thead th {\n",
       "        text-align: right;\n",
       "    }\n",
       "</style>\n",
       "<table border=\"1\" class=\"dataframe\">\n",
       "  <thead>\n",
       "    <tr style=\"text-align: right;\">\n",
       "      <th></th>\n",
       "      <th>Unnamed: 0</th>\n",
       "      <th>Title</th>\n",
       "      <th>description</th>\n",
       "      <th>authors</th>\n",
       "      <th>publisher</th>\n",
       "      <th>publishedDate</th>\n",
       "      <th>categories</th>\n",
       "      <th>Impact</th>\n",
       "    </tr>\n",
       "  </thead>\n",
       "  <tbody>\n",
       "    <tr>\n",
       "      <th>22626</th>\n",
       "      <td>31363</td>\n",
       "      <td>Crossroads of Twilight (The Wheel of Time, Boo...</td>\n",
       "      <td>The Wheel of Time ® is a PBS Great American Re...</td>\n",
       "      <td>['Robert Jordan']</td>\n",
       "      <td>Tor Fantasy</td>\n",
       "      <td>2010-07-20</td>\n",
       "      <td>['Fiction']</td>\n",
       "      <td>0.000000</td>\n",
       "    </tr>\n",
       "    <tr>\n",
       "      <th>89337</th>\n",
       "      <td>134635</td>\n",
       "      <td>Day of Reckoning: The Massacre at Columbine Hi...</td>\n",
       "      <td>Who was the evilest of the evil, the baddest o...</td>\n",
       "      <td>['Martin Gilman Wolcott']</td>\n",
       "      <td>Citadel Press</td>\n",
       "      <td>2004</td>\n",
       "      <td>['History']</td>\n",
       "      <td>5.333957</td>\n",
       "    </tr>\n",
       "    <tr>\n",
       "      <th>136418</th>\n",
       "      <td>207153</td>\n",
       "      <td>Predator (Kay Scarpetta Mysteries)</td>\n",
       "      <td>Kay Scarpetta and her colleague Pete Marino in...</td>\n",
       "      <td>['Patricia Daniels Cornwell']</td>\n",
       "      <td>Berkley</td>\n",
       "      <td>2012</td>\n",
       "      <td>['Fiction']</td>\n",
       "      <td>30.556660</td>\n",
       "    </tr>\n",
       "  </tbody>\n",
       "</table>\n",
       "</div>"
      ],
      "text/plain": [
       "        Unnamed: 0                                              Title  \\\n",
       "22626        31363  Crossroads of Twilight (The Wheel of Time, Boo...   \n",
       "89337       134635  Day of Reckoning: The Massacre at Columbine Hi...   \n",
       "136418      207153                 Predator (Kay Scarpetta Mysteries)   \n",
       "\n",
       "                                              description  \\\n",
       "22626   The Wheel of Time ® is a PBS Great American Re...   \n",
       "89337   Who was the evilest of the evil, the baddest o...   \n",
       "136418  Kay Scarpetta and her colleague Pete Marino in...   \n",
       "\n",
       "                              authors      publisher publishedDate  \\\n",
       "22626               ['Robert Jordan']    Tor Fantasy    2010-07-20   \n",
       "89337       ['Martin Gilman Wolcott']  Citadel Press          2004   \n",
       "136418  ['Patricia Daniels Cornwell']        Berkley          2012   \n",
       "\n",
       "         categories     Impact  \n",
       "22626   ['Fiction']   0.000000  \n",
       "89337   ['History']   5.333957  \n",
       "136418  ['Fiction']  30.556660  "
      ]
     },
     "execution_count": 93,
     "metadata": {},
     "output_type": "execute_result"
    }
   ],
   "source": [
    "data[data.Impact<100]"
   ]
  },
  {
   "cell_type": "code",
   "execution_count": 83,
   "id": "e9e0ab39",
   "metadata": {},
   "outputs": [
    {
     "data": {
      "text/plain": [
       "8.088877648240954"
      ]
     },
     "execution_count": 83,
     "metadata": {},
     "output_type": "execute_result"
    }
   ],
   "source": [
    "63.640350/786.763662*100"
   ]
  },
  {
   "cell_type": "markdown",
   "id": "70515a8d",
   "metadata": {},
   "source": [
    "Null Values"
   ]
  },
  {
   "cell_type": "code",
   "execution_count": 6,
   "id": "d9901834",
   "metadata": {},
   "outputs": [
    {
     "data": {
      "text/plain": [
       "False    90.809809\n",
       "True      9.190191\n",
       "Name: description, dtype: float64"
      ]
     },
     "execution_count": 6,
     "metadata": {},
     "output_type": "execute_result"
    }
   ],
   "source": [
    "data['description'].isna().value_counts(normalize=True).mul(100)"
   ]
  },
  {
   "cell_type": "code",
   "execution_count": 7,
   "id": "153037a8",
   "metadata": {},
   "outputs": [
    {
     "data": {
      "text/plain": [
       "False    100.0\n",
       "Name: Title, dtype: float64"
      ]
     },
     "execution_count": 7,
     "metadata": {},
     "output_type": "execute_result"
    }
   ],
   "source": [
    "data['Title'].isna().value_counts(normalize=True).mul(100)"
   ]
  },
  {
   "cell_type": "code",
   "execution_count": 8,
   "id": "7424f071",
   "metadata": {},
   "outputs": [
    {
     "data": {
      "text/plain": [
       "False    98.03711\n",
       "True      1.96289\n",
       "Name: authors, dtype: float64"
      ]
     },
     "execution_count": 8,
     "metadata": {},
     "output_type": "execute_result"
    }
   ],
   "source": [
    "data['authors'].isna().value_counts(normalize=True).mul(100)"
   ]
  },
  {
   "cell_type": "code",
   "execution_count": 9,
   "id": "a7ffed61",
   "metadata": {},
   "outputs": [
    {
     "data": {
      "text/plain": [
       "False    100.0\n",
       "Name: publisher, dtype: float64"
      ]
     },
     "execution_count": 9,
     "metadata": {},
     "output_type": "execute_result"
    }
   ],
   "source": [
    "data['publisher'].isna().value_counts(normalize=True).mul(100)"
   ]
  },
  {
   "cell_type": "code",
   "execution_count": 10,
   "id": "178b312f",
   "metadata": {},
   "outputs": [
    {
     "data": {
      "text/plain": [
       "False    99.749142\n",
       "True      0.250858\n",
       "Name: publishedDate, dtype: float64"
      ]
     },
     "execution_count": 10,
     "metadata": {},
     "output_type": "execute_result"
    }
   ],
   "source": [
    "data['publishedDate'].isna().value_counts(normalize=True).mul(100)"
   ]
  },
  {
   "cell_type": "code",
   "execution_count": 11,
   "id": "dcd464f6",
   "metadata": {},
   "outputs": [
    {
     "data": {
      "text/plain": [
       "False    100.0\n",
       "Name: categories, dtype: float64"
      ]
     },
     "execution_count": 11,
     "metadata": {},
     "output_type": "execute_result"
    }
   ],
   "source": [
    "data['categories'].isna().value_counts(normalize=True).mul(100)"
   ]
  },
  {
   "cell_type": "code",
   "execution_count": 13,
   "id": "9d12ef70",
   "metadata": {},
   "outputs": [],
   "source": [
    "# data.groupby('categories',as_index=False)['Impact'].mean().plot()"
   ]
  },
  {
   "cell_type": "markdown",
   "id": "65f1c60a",
   "metadata": {},
   "source": [
    "Authors"
   ]
  },
  {
   "cell_type": "code",
   "execution_count": 14,
   "id": "a09d7a6f",
   "metadata": {},
   "outputs": [],
   "source": [
    "import numpy as np"
   ]
  },
  {
   "cell_type": "code",
   "execution_count": 22,
   "id": "cfced0fd",
   "metadata": {},
   "outputs": [],
   "source": [
    "authors_count=data.groupby('authors',as_index=False)['Title'].nunique()"
   ]
  },
  {
   "cell_type": "code",
   "execution_count": 26,
   "id": "70c6ca80",
   "metadata": {
    "scrolled": true
   },
   "outputs": [
    {
     "data": {
      "text/plain": [
       "1      82.698541\n",
       "2      10.605209\n",
       "3       3.142095\n",
       "4       1.291398\n",
       "5       0.671772\n",
       "6       0.414106\n",
       "7       0.274026\n",
       "8       0.199384\n",
       "9       0.137013\n",
       "10      0.105316\n",
       "11      0.072596\n",
       "13      0.061349\n",
       "12      0.052147\n",
       "14      0.039877\n",
       "15      0.037832\n",
       "16      0.026585\n",
       "17      0.018405\n",
       "18      0.016360\n",
       "20      0.014315\n",
       "22      0.011247\n",
       "19      0.009202\n",
       "28      0.009202\n",
       "21      0.008180\n",
       "25      0.007157\n",
       "36      0.006135\n",
       "26      0.006135\n",
       "29      0.005112\n",
       "30      0.005112\n",
       "32      0.005112\n",
       "24      0.005112\n",
       "23      0.005112\n",
       "31      0.004090\n",
       "51      0.003067\n",
       "27      0.003067\n",
       "33      0.003067\n",
       "39      0.002045\n",
       "40      0.002045\n",
       "61      0.002045\n",
       "41      0.002045\n",
       "35      0.002045\n",
       "164     0.001022\n",
       "37      0.001022\n",
       "103     0.001022\n",
       "56      0.001022\n",
       "34      0.001022\n",
       "236     0.001022\n",
       "49      0.001022\n",
       "100     0.001022\n",
       "109     0.001022\n",
       "55      0.001022\n",
       "48      0.001022\n",
       "42      0.001022\n",
       "58      0.001022\n",
       "60      0.001022\n",
       "45      0.001022\n",
       "Name: Title, dtype: float64"
      ]
     },
     "execution_count": 26,
     "metadata": {},
     "output_type": "execute_result"
    }
   ],
   "source": [
    "authors_count['Title'].value_counts(normalize=True).mul(100)"
   ]
  },
  {
   "cell_type": "code",
   "execution_count": 49,
   "id": "f2d057cd",
   "metadata": {},
   "outputs": [],
   "source": [
    "authors_impact=data.groupby('authors',as_index=False)['Impact'].mean()"
   ]
  },
  {
   "cell_type": "code",
   "execution_count": 50,
   "id": "1faa248b",
   "metadata": {},
   "outputs": [],
   "source": [
    "authors_df=authors_count.merge(authors_impact)"
   ]
  },
  {
   "cell_type": "code",
   "execution_count": 64,
   "id": "6bd2a629",
   "metadata": {},
   "outputs": [
    {
     "data": {
      "text/html": [
       "<div>\n",
       "<style scoped>\n",
       "    .dataframe tbody tr th:only-of-type {\n",
       "        vertical-align: middle;\n",
       "    }\n",
       "\n",
       "    .dataframe tbody tr th {\n",
       "        vertical-align: top;\n",
       "    }\n",
       "\n",
       "    .dataframe thead th {\n",
       "        text-align: right;\n",
       "    }\n",
       "</style>\n",
       "<table border=\"1\" class=\"dataframe\">\n",
       "  <thead>\n",
       "    <tr style=\"text-align: right;\">\n",
       "      <th></th>\n",
       "      <th>Title</th>\n",
       "      <th>Impact</th>\n",
       "    </tr>\n",
       "  </thead>\n",
       "  <tbody>\n",
       "    <tr>\n",
       "      <th>Title</th>\n",
       "      <td>1.000000</td>\n",
       "      <td>-0.012602</td>\n",
       "    </tr>\n",
       "    <tr>\n",
       "      <th>Impact</th>\n",
       "      <td>-0.012602</td>\n",
       "      <td>1.000000</td>\n",
       "    </tr>\n",
       "  </tbody>\n",
       "</table>\n",
       "</div>"
      ],
      "text/plain": [
       "           Title    Impact\n",
       "Title   1.000000 -0.012602\n",
       "Impact -0.012602  1.000000"
      ]
     },
     "execution_count": 64,
     "metadata": {},
     "output_type": "execute_result"
    }
   ],
   "source": [
    "authors_df.corr()"
   ]
  },
  {
   "cell_type": "code",
   "execution_count": 51,
   "id": "f40cb460",
   "metadata": {},
   "outputs": [
    {
     "data": {
      "text/plain": [
       "count    80880.000000\n",
       "mean       788.192894\n",
       "std         59.095568\n",
       "min        126.875445\n",
       "25%        767.147946\n",
       "50%        805.568540\n",
       "75%        819.108336\n",
       "max        997.901870\n",
       "Name: Impact, dtype: float64"
      ]
     },
     "execution_count": 51,
     "metadata": {},
     "output_type": "execute_result"
    }
   ],
   "source": [
    "authors_df[authors_df.Title==1]['Impact'].describe()"
   ]
  },
  {
   "cell_type": "code",
   "execution_count": 52,
   "id": "41157a28",
   "metadata": {},
   "outputs": [
    {
     "data": {
      "text/plain": [
       "count    10372.000000\n",
       "mean       786.210688\n",
       "std         52.250613\n",
       "min        248.060358\n",
       "25%        764.219347\n",
       "50%        794.936232\n",
       "75%        815.191177\n",
       "max        983.672175\n",
       "Name: Impact, dtype: float64"
      ]
     },
     "execution_count": 52,
     "metadata": {},
     "output_type": "execute_result"
    }
   ],
   "source": [
    "authors_df[authors_df.Title==2]['Impact'].describe()"
   ]
  },
  {
   "cell_type": "code",
   "execution_count": 53,
   "id": "a31e0e58",
   "metadata": {},
   "outputs": [
    {
     "data": {
      "text/plain": [
       "count    6549.000000\n",
       "mean      783.841704\n",
       "std        46.887148\n",
       "min       396.397233\n",
       "25%       763.037017\n",
       "50%       790.789906\n",
       "75%       811.932606\n",
       "max       956.340035\n",
       "Name: Impact, dtype: float64"
      ]
     },
     "execution_count": 53,
     "metadata": {},
     "output_type": "execute_result"
    }
   ],
   "source": [
    "authors_df[authors_df.Title>2]['Impact'].describe()"
   ]
  },
  {
   "cell_type": "code",
   "execution_count": 57,
   "id": "fe8265ad",
   "metadata": {},
   "outputs": [
    {
     "data": {
      "text/plain": [
       "55.21999999998661"
      ]
     },
     "execution_count": 57,
     "metadata": {},
     "output_type": "execute_result"
    }
   ],
   "source": [
    "np.percentile(authors_df['Title'],99.99)"
   ]
  },
  {
   "cell_type": "code",
   "execution_count": 58,
   "id": "b0fc88a9",
   "metadata": {},
   "outputs": [
    {
     "data": {
      "text/plain": [
       "count     11.000000\n",
       "mean     790.211087\n",
       "std       13.178359\n",
       "min      772.991841\n",
       "25%      780.129469\n",
       "50%      790.529270\n",
       "75%      798.971252\n",
       "max      814.090917\n",
       "Name: Impact, dtype: float64"
      ]
     },
     "execution_count": 58,
     "metadata": {},
     "output_type": "execute_result"
    }
   ],
   "source": [
    "authors_df[authors_df.Title>=55]['Impact'].describe()"
   ]
  },
  {
   "cell_type": "markdown",
   "id": "955116e0",
   "metadata": {},
   "source": [
    "Publisher"
   ]
  },
  {
   "cell_type": "code",
   "execution_count": 59,
   "id": "c224eb26",
   "metadata": {},
   "outputs": [
    {
     "data": {
      "text/plain": [
       "1       55.075846\n",
       "2       12.889926\n",
       "3        6.176585\n",
       "4        4.014002\n",
       "5        2.722676\n",
       "          ...    \n",
       "1959     0.007779\n",
       "220      0.007779\n",
       "555      0.007779\n",
       "335      0.007779\n",
       "1057     0.007779\n",
       "Name: Title, Length: 252, dtype: float64"
      ]
     },
     "execution_count": 59,
     "metadata": {},
     "output_type": "execute_result"
    }
   ],
   "source": [
    "publisher_count=data.groupby('publisher',as_index=False)['Title'].nunique()\n",
    "publisher_count['Title'].value_counts(normalize=True).mul(100)"
   ]
  },
  {
   "cell_type": "code",
   "execution_count": 68,
   "id": "1a757c30",
   "metadata": {},
   "outputs": [],
   "source": [
    "publisher_impact=data.groupby('publisher',as_index=False)['Impact'].mean()"
   ]
  },
  {
   "cell_type": "code",
   "execution_count": 69,
   "id": "542e192a",
   "metadata": {},
   "outputs": [],
   "source": [
    "publisher_df=publisher_count.merge(publisher_impact)"
   ]
  },
  {
   "cell_type": "code",
   "execution_count": 70,
   "id": "8e422720",
   "metadata": {},
   "outputs": [
    {
     "data": {
      "text/html": [
       "<div>\n",
       "<style scoped>\n",
       "    .dataframe tbody tr th:only-of-type {\n",
       "        vertical-align: middle;\n",
       "    }\n",
       "\n",
       "    .dataframe tbody tr th {\n",
       "        vertical-align: top;\n",
       "    }\n",
       "\n",
       "    .dataframe thead th {\n",
       "        text-align: right;\n",
       "    }\n",
       "</style>\n",
       "<table border=\"1\" class=\"dataframe\">\n",
       "  <thead>\n",
       "    <tr style=\"text-align: right;\">\n",
       "      <th></th>\n",
       "      <th>Title</th>\n",
       "      <th>Impact</th>\n",
       "    </tr>\n",
       "  </thead>\n",
       "  <tbody>\n",
       "    <tr>\n",
       "      <th>Title</th>\n",
       "      <td>1.000000</td>\n",
       "      <td>-0.012405</td>\n",
       "    </tr>\n",
       "    <tr>\n",
       "      <th>Impact</th>\n",
       "      <td>-0.012405</td>\n",
       "      <td>1.000000</td>\n",
       "    </tr>\n",
       "  </tbody>\n",
       "</table>\n",
       "</div>"
      ],
      "text/plain": [
       "           Title    Impact\n",
       "Title   1.000000 -0.012405\n",
       "Impact -0.012405  1.000000"
      ]
     },
     "execution_count": 70,
     "metadata": {},
     "output_type": "execute_result"
    }
   ],
   "source": [
    "publisher_df.corr()"
   ]
  },
  {
   "cell_type": "code",
   "execution_count": 84,
   "id": "838e0336",
   "metadata": {},
   "outputs": [
    {
     "name": "stdout",
     "output_type": "stream",
     "text": [
      "792.7522557303572\n",
      "791.8541819551334\n",
      "791.1367114662329\n",
      "792.4143615895473\n",
      "790.6176582571879\n",
      "787.7899407181638\n"
     ]
    }
   ],
   "source": [
    "print(publisher_df[publisher_df.Title==1]['Impact'].mean())\n",
    "print(publisher_df[publisher_df.Title==2]['Impact'].mean())\n",
    "print(publisher_df[publisher_df.Title==3]['Impact'].mean())\n",
    "print(publisher_df[publisher_df.Title==4]['Impact'].mean())\n",
    "print(publisher_df[publisher_df.Title==5]['Impact'].mean())\n",
    "print(publisher_df[publisher_df.Title>5]['Impact'].mean())"
   ]
  },
  {
   "cell_type": "code",
   "execution_count": 85,
   "id": "22c5fadf",
   "metadata": {},
   "outputs": [
    {
     "name": "stdout",
     "output_type": "stream",
     "text": [
      "199.51581474536815\n",
      "488.73129765757153\n",
      "575.5210914243964\n",
      "596.8664137241922\n",
      "551.1036677770946\n",
      "593.6621022858504\n"
     ]
    }
   ],
   "source": [
    "print(publisher_df[publisher_df.Title==1]['Impact'].min())\n",
    "print(publisher_df[publisher_df.Title==2]['Impact'].min())\n",
    "print(publisher_df[publisher_df.Title==3]['Impact'].min())\n",
    "print(publisher_df[publisher_df.Title==4]['Impact'].min())\n",
    "print(publisher_df[publisher_df.Title==5]['Impact'].min())\n",
    "print(publisher_df[publisher_df.Title>5]['Impact'].min())"
   ]
  },
  {
   "cell_type": "code",
   "execution_count": 91,
   "id": "ff781bc8",
   "metadata": {},
   "outputs": [
    {
     "name": "stdout",
     "output_type": "stream",
     "text": [
      "997.9018702987848\n",
      "931.7974055258048\n",
      "888.9965101235533\n",
      "915.3408544268334\n",
      "873.479780485953\n",
      "898.804634630236\n"
     ]
    }
   ],
   "source": [
    "print(publisher_df[publisher_df.Title==1]['Impact'].max())\n",
    "print(publisher_df[publisher_df.Title==2]['Impact'].max())\n",
    "print(publisher_df[publisher_df.Title==3]['Impact'].max())\n",
    "print(publisher_df[publisher_df.Title==4]['Impact'].max())\n",
    "print(publisher_df[publisher_df.Title==5]['Impact'].max())\n",
    "print(publisher_df[publisher_df.Title>5]['Impact'].max())"
   ]
  },
  {
   "cell_type": "code",
   "execution_count": 86,
   "id": "de10e87c",
   "metadata": {},
   "outputs": [
    {
     "data": {
      "text/html": [
       "<div>\n",
       "<style scoped>\n",
       "    .dataframe tbody tr th:only-of-type {\n",
       "        vertical-align: middle;\n",
       "    }\n",
       "\n",
       "    .dataframe tbody tr th {\n",
       "        vertical-align: top;\n",
       "    }\n",
       "\n",
       "    .dataframe thead th {\n",
       "        text-align: right;\n",
       "    }\n",
       "</style>\n",
       "<table border=\"1\" class=\"dataframe\">\n",
       "  <thead>\n",
       "    <tr style=\"text-align: right;\">\n",
       "      <th></th>\n",
       "      <th>publisher</th>\n",
       "      <th>Title</th>\n",
       "      <th>Impact</th>\n",
       "    </tr>\n",
       "  </thead>\n",
       "  <tbody>\n",
       "    <tr>\n",
       "      <th>11114</th>\n",
       "      <td>Tan Books &amp; Pub</td>\n",
       "      <td>3635</td>\n",
       "      <td>805.429809</td>\n",
       "    </tr>\n",
       "    <tr>\n",
       "      <th>10460</th>\n",
       "      <td>Simon and Schuster</td>\n",
       "      <td>3600</td>\n",
       "      <td>784.122762</td>\n",
       "    </tr>\n",
       "    <tr>\n",
       "      <th>10550</th>\n",
       "      <td>Smithsonian Institution</td>\n",
       "      <td>3216</td>\n",
       "      <td>788.289553</td>\n",
       "    </tr>\n",
       "    <tr>\n",
       "      <th>8820</th>\n",
       "      <td>Penguin</td>\n",
       "      <td>2788</td>\n",
       "      <td>775.029717</td>\n",
       "    </tr>\n",
       "    <tr>\n",
       "      <th>12488</th>\n",
       "      <td>Wm. B. Eerdmans Publishing</td>\n",
       "      <td>2563</td>\n",
       "      <td>814.085374</td>\n",
       "    </tr>\n",
       "    <tr>\n",
       "      <th>9879</th>\n",
       "      <td>Routledge</td>\n",
       "      <td>2371</td>\n",
       "      <td>783.711016</td>\n",
       "    </tr>\n",
       "    <tr>\n",
       "      <th>5996</th>\n",
       "      <td>John Wiley &amp; Sons</td>\n",
       "      <td>1984</td>\n",
       "      <td>774.653936</td>\n",
       "    </tr>\n",
       "    <tr>\n",
       "      <th>4931</th>\n",
       "      <td>Harper Collins</td>\n",
       "      <td>1959</td>\n",
       "      <td>770.305872</td>\n",
       "    </tr>\n",
       "    <tr>\n",
       "      <th>2056</th>\n",
       "      <td>Cambridge University Press</td>\n",
       "      <td>1478</td>\n",
       "      <td>787.819167</td>\n",
       "    </tr>\n",
       "    <tr>\n",
       "      <th>70</th>\n",
       "      <td>A&amp;C Black</td>\n",
       "      <td>1355</td>\n",
       "      <td>823.115348</td>\n",
       "    </tr>\n",
       "  </tbody>\n",
       "</table>\n",
       "</div>"
      ],
      "text/plain": [
       "                        publisher  Title      Impact\n",
       "11114             Tan Books & Pub   3635  805.429809\n",
       "10460          Simon and Schuster   3600  784.122762\n",
       "10550     Smithsonian Institution   3216  788.289553\n",
       "8820                      Penguin   2788  775.029717\n",
       "12488  Wm. B. Eerdmans Publishing   2563  814.085374\n",
       "9879                    Routledge   2371  783.711016\n",
       "5996            John Wiley & Sons   1984  774.653936\n",
       "4931               Harper Collins   1959  770.305872\n",
       "2056   Cambridge University Press   1478  787.819167\n",
       "70                      A&C Black   1355  823.115348"
      ]
     },
     "execution_count": 86,
     "metadata": {},
     "output_type": "execute_result"
    }
   ],
   "source": [
    "publisher_df.sort_values(by='Title',ascending=False).head(10)"
   ]
  },
  {
   "cell_type": "markdown",
   "id": "cf2771a4",
   "metadata": {},
   "source": [
    "Category"
   ]
  },
  {
   "cell_type": "code",
   "execution_count": 73,
   "id": "f3554884",
   "metadata": {},
   "outputs": [
    {
     "data": {
      "text/plain": [
       "107     3.0\n",
       "82      2.0\n",
       "90      2.0\n",
       "79      2.0\n",
       "268     1.0\n",
       "       ... \n",
       "114     1.0\n",
       "4312    1.0\n",
       "1162    1.0\n",
       "98      1.0\n",
       "595     1.0\n",
       "Name: Title, Length: 95, dtype: float64"
      ]
     },
     "execution_count": 73,
     "metadata": {},
     "output_type": "execute_result"
    }
   ],
   "source": [
    "category_count=data.groupby('categories',as_index=False)['Title'].nunique()\n",
    "category_count['Title'].value_counts(normalize=True).mul(100)"
   ]
  },
  {
   "cell_type": "code",
   "execution_count": 75,
   "id": "e2e53069",
   "metadata": {},
   "outputs": [],
   "source": [
    "category_impact=data.groupby('categories',as_index=False)['Impact'].mean()"
   ]
  },
  {
   "cell_type": "code",
   "execution_count": 77,
   "id": "4f666626",
   "metadata": {},
   "outputs": [
    {
     "data": {
      "text/plain": [
       "count    100.000000\n",
       "mean     789.886084\n",
       "std       11.136245\n",
       "min      745.029266\n",
       "25%      784.110630\n",
       "50%      790.533875\n",
       "75%      798.087692\n",
       "max      812.227203\n",
       "Name: Impact, dtype: float64"
      ]
     },
     "execution_count": 77,
     "metadata": {},
     "output_type": "execute_result"
    }
   ],
   "source": [
    "category_impact['Impact'].describe()"
   ]
  },
  {
   "cell_type": "code",
   "execution_count": 81,
   "id": "6ac3c991",
   "metadata": {},
   "outputs": [
    {
     "data": {
      "image/png": "[encoded data removed]",
      "text/plain": [
       "<Figure size 432x288 with 1 Axes>"
      ]
     },
     "metadata": {
      "needs_background": "light"
     },
     "output_type": "display_data"
    }
   ],
   "source": [
    "plt.hist(category_count['Title']);"
   ]
  },
  {
   "cell_type": "code",
   "execution_count": 82,
   "id": "e6de9b71",
   "metadata": {
    "scrolled": true
   },
   "outputs": [
    {
     "data": {
      "text/html": [
       "<div>\n",
       "<style scoped>\n",
       "    .dataframe tbody tr th:only-of-type {\n",
       "        vertical-align: middle;\n",
       "    }\n",
       "\n",
       "    .dataframe tbody tr th {\n",
       "        vertical-align: top;\n",
       "    }\n",
       "\n",
       "    .dataframe thead th {\n",
       "        text-align: right;\n",
       "    }\n",
       "</style>\n",
       "<table border=\"1\" class=\"dataframe\">\n",
       "  <thead>\n",
       "    <tr style=\"text-align: right;\">\n",
       "      <th></th>\n",
       "      <th>categories</th>\n",
       "      <th>Title</th>\n",
       "    </tr>\n",
       "  </thead>\n",
       "  <tbody>\n",
       "    <tr>\n",
       "      <th>49</th>\n",
       "      <td>['Fiction']</td>\n",
       "      <td>23419</td>\n",
       "    </tr>\n",
       "    <tr>\n",
       "      <th>84</th>\n",
       "      <td>['Religion']</td>\n",
       "      <td>9459</td>\n",
       "    </tr>\n",
       "    <tr>\n",
       "      <th>58</th>\n",
       "      <td>['History']</td>\n",
       "      <td>9330</td>\n",
       "    </tr>\n",
       "    <tr>\n",
       "      <th>63</th>\n",
       "      <td>['Juvenile Fiction']</td>\n",
       "      <td>6643</td>\n",
       "    </tr>\n",
       "    <tr>\n",
       "      <th>17</th>\n",
       "      <td>['Biography &amp; Autobiography']</td>\n",
       "      <td>6324</td>\n",
       "    </tr>\n",
       "    <tr>\n",
       "      <th>...</th>\n",
       "      <td>...</td>\n",
       "      <td>...</td>\n",
       "    </tr>\n",
       "    <tr>\n",
       "      <th>28</th>\n",
       "      <td>['Christianity']</td>\n",
       "      <td>79</td>\n",
       "    </tr>\n",
       "    <tr>\n",
       "      <th>99</th>\n",
       "      <td>['Young Adult Nonfiction']</td>\n",
       "      <td>79</td>\n",
       "    </tr>\n",
       "    <tr>\n",
       "      <th>82</th>\n",
       "      <td>['Railroads']</td>\n",
       "      <td>78</td>\n",
       "    </tr>\n",
       "    <tr>\n",
       "      <th>20</th>\n",
       "      <td>['Brothers and sisters']</td>\n",
       "      <td>76</td>\n",
       "    </tr>\n",
       "    <tr>\n",
       "      <th>14</th>\n",
       "      <td>['Automobiles']</td>\n",
       "      <td>74</td>\n",
       "    </tr>\n",
       "  </tbody>\n",
       "</table>\n",
       "<p>100 rows × 2 columns</p>\n",
       "</div>"
      ],
      "text/plain": [
       "                       categories  Title\n",
       "49                    ['Fiction']  23419\n",
       "84                   ['Religion']   9459\n",
       "58                    ['History']   9330\n",
       "63           ['Juvenile Fiction']   6643\n",
       "17  ['Biography & Autobiography']   6324\n",
       "..                            ...    ...\n",
       "28               ['Christianity']     79\n",
       "99     ['Young Adult Nonfiction']     79\n",
       "82                  ['Railroads']     78\n",
       "20       ['Brothers and sisters']     76\n",
       "14                ['Automobiles']     74\n",
       "\n",
       "[100 rows x 2 columns]"
      ]
     },
     "execution_count": 82,
     "metadata": {},
     "output_type": "execute_result"
    }
   ],
   "source": [
    "category_count.sort_values(by='Title',ascending=False)"
   ]
  },
  {
   "cell_type": "code",
   "execution_count": 95,
   "id": "a3d2618c",
   "metadata": {},
   "outputs": [],
   "source": [
    "#######"
   ]
  },
  {
   "cell_type": "code",
   "execution_count": null,
   "id": "0d7e85ec",
   "metadata": {},
   "outputs": [],
   "source": [
    "# Use NLP Features\n",
    "# # Tf-Idf\n",
    "# # Word Embedding for Vector Representation\n",
    "# # Topic Modelling\n",
    "# FIND Pairs of Author-Publisher , Author - Category , Publisher-Category having more/less impact when together(interacting Terms)\n",
    "# Drop Description as it has 10% null\n"
   ]
  }
 ],
 "metadata": {
  "kernelspec": {
   "display_name": "Python 3 (ipykernel)",
   "language": "python",
   "name": "python3"
  },
  "language_info": {
   "codemirror_mode": {
    "name": "ipython",
    "version": 3
   },
   "file_extension": ".py",
   "mimetype": "text/x-python",
   "name": "python",
   "nbconvert_exporter": "python",
   "pygments_lexer": "ipython3",
   "version": "3.9.12"
  }
 },
 "nbformat": 4,
 "nbformat_minor": 5
}
