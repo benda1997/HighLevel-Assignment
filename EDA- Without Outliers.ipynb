{
 "cells": [
  {
   "cell_type": "code",
   "execution_count": 2,
   "id": "30934637",
   "metadata": {},
   "outputs": [],
   "source": [
    "import pandas as pd\n",
    "data=pd.read_csv(\"books_task.csv\")\n"
   ]
  },
  {
   "cell_type": "code",
   "execution_count": 3,
   "id": "9ba61431",
   "metadata": {},
   "outputs": [
    {
     "data": {
      "text/html": [
       "<div>\n",
       "<style scoped>\n",
       "    .dataframe tbody tr th:only-of-type {\n",
       "        vertical-align: middle;\n",
       "    }\n",
       "\n",
       "    .dataframe tbody tr th {\n",
       "        vertical-align: top;\n",
       "    }\n",
       "\n",
       "    .dataframe thead th {\n",
       "        text-align: right;\n",
       "    }\n",
       "</style>\n",
       "<table border=\"1\" class=\"dataframe\">\n",
       "  <thead>\n",
       "    <tr style=\"text-align: right;\">\n",
       "      <th></th>\n",
       "      <th>Unnamed: 0</th>\n",
       "      <th>Title</th>\n",
       "      <th>description</th>\n",
       "      <th>authors</th>\n",
       "      <th>publisher</th>\n",
       "      <th>publishedDate</th>\n",
       "      <th>categories</th>\n",
       "      <th>Impact</th>\n",
       "    </tr>\n",
       "  </thead>\n",
       "  <tbody>\n",
       "    <tr>\n",
       "      <th>0</th>\n",
       "      <td>0</td>\n",
       "      <td>Its Only Art If Its Well Hung!</td>\n",
       "      <td>NaN</td>\n",
       "      <td>['Julie Strain']</td>\n",
       "      <td>Smithsonian Institution</td>\n",
       "      <td>1996</td>\n",
       "      <td>['Comics &amp; Graphic Novels']</td>\n",
       "      <td>784.303924</td>\n",
       "    </tr>\n",
       "    <tr>\n",
       "      <th>1</th>\n",
       "      <td>1</td>\n",
       "      <td>Dr. Seuss: American Icon</td>\n",
       "      <td>Philip Nel takes a fascinating look into the k...</td>\n",
       "      <td>['Philip Nel']</td>\n",
       "      <td>A&amp;C Black</td>\n",
       "      <td>2005-01-01</td>\n",
       "      <td>['Biography &amp; Autobiography']</td>\n",
       "      <td>825.465535</td>\n",
       "    </tr>\n",
       "    <tr>\n",
       "      <th>2</th>\n",
       "      <td>2</td>\n",
       "      <td>Wonderful Worship in Smaller Churches</td>\n",
       "      <td>This resource includes twelve principles in un...</td>\n",
       "      <td>['David R. Ray']</td>\n",
       "      <td>OUP USA</td>\n",
       "      <td>2000</td>\n",
       "      <td>['Religion']</td>\n",
       "      <td>841.705321</td>\n",
       "    </tr>\n",
       "    <tr>\n",
       "      <th>3</th>\n",
       "      <td>3</td>\n",
       "      <td>Whispers of the Wicked Saints</td>\n",
       "      <td>Julia Thomas finds her life spinning out of co...</td>\n",
       "      <td>['Veronica Haddon']</td>\n",
       "      <td>iUniverse</td>\n",
       "      <td>2005-02</td>\n",
       "      <td>['Fiction']</td>\n",
       "      <td>666.426542</td>\n",
       "    </tr>\n",
       "    <tr>\n",
       "      <th>4</th>\n",
       "      <td>5</td>\n",
       "      <td>The Church of Christ: A Biblical Ecclesiology ...</td>\n",
       "      <td>In The Church of Christ: A Biblical Ecclesiolo...</td>\n",
       "      <td>['Everett Ferguson']</td>\n",
       "      <td>Wm. B. Eerdmans Publishing</td>\n",
       "      <td>1996</td>\n",
       "      <td>['Religion']</td>\n",
       "      <td>806.216143</td>\n",
       "    </tr>\n",
       "  </tbody>\n",
       "</table>\n",
       "</div>"
      ],
      "text/plain": [
       "   Unnamed: 0                                              Title  \\\n",
       "0           0                     Its Only Art If Its Well Hung!   \n",
       "1           1                           Dr. Seuss: American Icon   \n",
       "2           2              Wonderful Worship in Smaller Churches   \n",
       "3           3                      Whispers of the Wicked Saints   \n",
       "4           5  The Church of Christ: A Biblical Ecclesiology ...   \n",
       "\n",
       "                                         description               authors  \\\n",
       "0                                                NaN      ['Julie Strain']   \n",
       "1  Philip Nel takes a fascinating look into the k...        ['Philip Nel']   \n",
       "2  This resource includes twelve principles in un...      ['David R. Ray']   \n",
       "3  Julia Thomas finds her life spinning out of co...   ['Veronica Haddon']   \n",
       "4  In The Church of Christ: A Biblical Ecclesiolo...  ['Everett Ferguson']   \n",
       "\n",
       "                    publisher publishedDate                     categories  \\\n",
       "0     Smithsonian Institution          1996    ['Comics & Graphic Novels']   \n",
       "1                   A&C Black    2005-01-01  ['Biography & Autobiography']   \n",
       "2                     OUP USA          2000                   ['Religion']   \n",
       "3                   iUniverse       2005-02                    ['Fiction']   \n",
       "4  Wm. B. Eerdmans Publishing          1996                   ['Religion']   \n",
       "\n",
       "       Impact  \n",
       "0  784.303924  \n",
       "1  825.465535  \n",
       "2  841.705321  \n",
       "3  666.426542  \n",
       "4  806.216143  "
      ]
     },
     "execution_count": 3,
     "metadata": {},
     "output_type": "execute_result"
    }
   ],
   "source": [
    "data.head()"
   ]
  },
  {
   "cell_type": "code",
   "execution_count": 4,
   "id": "40e50535",
   "metadata": {},
   "outputs": [],
   "source": [
    "def remove_outliers(df, column, threshold=3):\n",
    "    \n",
    "    # Calculate the mean and standard deviation of the column\n",
    "    mean = df[column].mean()\n",
    "    std_dev = df[column].std()\n",
    "\n",
    "    # Calculate the lower and upper bounds for outliers\n",
    "    lower_bound = mean - threshold * std_dev\n",
    "    upper_bound = mean + threshold * std_dev\n",
    "\n",
    "    # Filter out rows where the column value is outside the bounds\n",
    "    filtered_df = df[(df[column] >= lower_bound) & (df[column] <= upper_bound)]\n",
    "\n",
    "    return filtered_df"
   ]
  },
  {
   "cell_type": "code",
   "execution_count": 6,
   "id": "81a3b931",
   "metadata": {},
   "outputs": [],
   "source": [
    "data = remove_outliers(data, 'Impact')\n"
   ]
  },
  {
   "cell_type": "code",
   "execution_count": 65,
   "id": "4e9784b8",
   "metadata": {},
   "outputs": [
    {
     "name": "stdout",
     "output_type": "stream",
     "text": [
      "(136350, 9)\n",
      "96657\n",
      "12776\n",
      "100\n"
     ]
    }
   ],
   "source": [
    "print(data.shape)\n",
    "print(data['authors'].nunique())\n",
    "print(data['publisher'].nunique())\n",
    "print(data['categories'].nunique())\n",
    "\n"
   ]
  },
  {
   "cell_type": "code",
   "execution_count": 45,
   "id": "2e8acf81",
   "metadata": {},
   "outputs": [],
   "source": [
    "# (138724-136350)/138724*100"
   ]
  },
  {
   "cell_type": "code",
   "execution_count": 8,
   "id": "4540669d",
   "metadata": {},
   "outputs": [
    {
     "data": {
      "image/png": "[encoded data removed]",
      "text/plain": [
       "<Figure size 432x288 with 1 Axes>"
      ]
     },
     "metadata": {
      "needs_background": "light"
     },
     "output_type": "display_data"
    }
   ],
   "source": [
    "import matplotlib.pyplot as plt\n",
    "plt.hist(data['Impact']);"
   ]
  },
  {
   "cell_type": "code",
   "execution_count": 9,
   "id": "6029014d",
   "metadata": {},
   "outputs": [
    {
     "data": {
      "text/plain": [
       "count    136350.000000\n",
       "mean        791.486611\n",
       "std          51.774904\n",
       "min         595.855551\n",
       "25%         767.034878\n",
       "50%         805.568540\n",
       "75%         819.108336\n",
       "max         976.417235\n",
       "Name: Impact, dtype: float64"
      ]
     },
     "execution_count": 9,
     "metadata": {},
     "output_type": "execute_result"
    }
   ],
   "source": [
    "data['Impact'].describe()"
   ]
  },
  {
   "cell_type": "code",
   "execution_count": 93,
   "id": "06fa66e2",
   "metadata": {},
   "outputs": [
    {
     "data": {
      "text/html": [
       "<div>\n",
       "<style scoped>\n",
       "    .dataframe tbody tr th:only-of-type {\n",
       "        vertical-align: middle;\n",
       "    }\n",
       "\n",
       "    .dataframe tbody tr th {\n",
       "        vertical-align: top;\n",
       "    }\n",
       "\n",
       "    .dataframe thead th {\n",
       "        text-align: right;\n",
       "    }\n",
       "</style>\n",
       "<table border=\"1\" class=\"dataframe\">\n",
       "  <thead>\n",
       "    <tr style=\"text-align: right;\">\n",
       "      <th></th>\n",
       "      <th>Unnamed: 0</th>\n",
       "      <th>Title</th>\n",
       "      <th>description</th>\n",
       "      <th>authors</th>\n",
       "      <th>publisher</th>\n",
       "      <th>publishedDate</th>\n",
       "      <th>categories</th>\n",
       "      <th>Impact</th>\n",
       "    </tr>\n",
       "  </thead>\n",
       "  <tbody>\n",
       "    <tr>\n",
       "      <th>22626</th>\n",
       "      <td>31363</td>\n",
       "      <td>Crossroads of Twilight (The Wheel of Time, Boo...</td>\n",
       "      <td>The Wheel of Time ® is a PBS Great American Re...</td>\n",
       "      <td>['Robert Jordan']</td>\n",
       "      <td>Tor Fantasy</td>\n",
       "      <td>2010-07-20</td>\n",
       "      <td>['Fiction']</td>\n",
       "      <td>0.000000</td>\n",
       "    </tr>\n",
       "    <tr>\n",
       "      <th>89337</th>\n",
       "      <td>134635</td>\n",
       "      <td>Day of Reckoning: The Massacre at Columbine Hi...</td>\n",
       "      <td>Who was the evilest of the evil, the baddest o...</td>\n",
       "      <td>['Martin Gilman Wolcott']</td>\n",
       "      <td>Citadel Press</td>\n",
       "      <td>2004</td>\n",
       "      <td>['History']</td>\n",
       "      <td>5.333957</td>\n",
       "    </tr>\n",
       "    <tr>\n",
       "      <th>136418</th>\n",
       "      <td>207153</td>\n",
       "      <td>Predator (Kay Scarpetta Mysteries)</td>\n",
       "      <td>Kay Scarpetta and her colleague Pete Marino in...</td>\n",
       "      <td>['Patricia Daniels Cornwell']</td>\n",
       "      <td>Berkley</td>\n",
       "      <td>2012</td>\n",
       "      <td>['Fiction']</td>\n",
       "      <td>30.556660</td>\n",
       "    </tr>\n",
       "  </tbody>\n",
       "</table>\n",
       "</div>"
      ],
      "text/plain": [
       "        Unnamed: 0                                              Title  \\\n",
       "22626        31363  Crossroads of Twilight (The Wheel of Time, Boo...   \n",
       "89337       134635  Day of Reckoning: The Massacre at Columbine Hi...   \n",
       "136418      207153                 Predator (Kay Scarpetta Mysteries)   \n",
       "\n",
       "                                              description  \\\n",
       "22626   The Wheel of Time ® is a PBS Great American Re...   \n",
       "89337   Who was the evilest of the evil, the baddest o...   \n",
       "136418  Kay Scarpetta and her colleague Pete Marino in...   \n",
       "\n",
       "                              authors      publisher publishedDate  \\\n",
       "22626               ['Robert Jordan']    Tor Fantasy    2010-07-20   \n",
       "89337       ['Martin Gilman Wolcott']  Citadel Press          2004   \n",
       "136418  ['Patricia Daniels Cornwell']        Berkley          2012   \n",
       "\n",
       "         categories     Impact  \n",
       "22626   ['Fiction']   0.000000  \n",
       "89337   ['History']   5.333957  \n",
       "136418  ['Fiction']  30.556660  "
      ]
     },
     "execution_count": 93,
     "metadata": {},
     "output_type": "execute_result"
    }
   ],
   "source": [
    "data[data.Impact<100]"
   ]
  },
  {
   "cell_type": "code",
   "execution_count": 10,
   "id": "14f265f3",
   "metadata": {},
   "outputs": [
    {
     "data": {
      "text/plain": [
       "6.541475658645096"
      ]
     },
     "execution_count": 10,
     "metadata": {},
     "output_type": "execute_result"
    }
   ],
   "source": [
    "51.774904/791.486611*100"
   ]
  },
  {
   "cell_type": "markdown",
   "id": "643efd3f",
   "metadata": {},
   "source": [
    "Null Values"
   ]
  },
  {
   "cell_type": "code",
   "execution_count": 11,
   "id": "7e3e761b",
   "metadata": {},
   "outputs": [
    {
     "data": {
      "text/plain": [
       "False    90.712138\n",
       "True      9.287862\n",
       "Name: description, dtype: float64"
      ]
     },
     "execution_count": 11,
     "metadata": {},
     "output_type": "execute_result"
    }
   ],
   "source": [
    "data['description'].isna().value_counts(normalize=True).mul(100)"
   ]
  },
  {
   "cell_type": "code",
   "execution_count": 12,
   "id": "2699df9d",
   "metadata": {},
   "outputs": [
    {
     "data": {
      "text/plain": [
       "False    100.0\n",
       "Name: Title, dtype: float64"
      ]
     },
     "execution_count": 12,
     "metadata": {},
     "output_type": "execute_result"
    }
   ],
   "source": [
    "data['Title'].isna().value_counts(normalize=True).mul(100)"
   ]
  },
  {
   "cell_type": "code",
   "execution_count": 13,
   "id": "86d78a46",
   "metadata": {},
   "outputs": [
    {
     "data": {
      "text/plain": [
       "False    98.025669\n",
       "True      1.974331\n",
       "Name: authors, dtype: float64"
      ]
     },
     "execution_count": 13,
     "metadata": {},
     "output_type": "execute_result"
    }
   ],
   "source": [
    "data['authors'].isna().value_counts(normalize=True).mul(100)"
   ]
  },
  {
   "cell_type": "code",
   "execution_count": 14,
   "id": "1f3dcbcd",
   "metadata": {},
   "outputs": [
    {
     "data": {
      "text/plain": [
       "False    100.0\n",
       "Name: publisher, dtype: float64"
      ]
     },
     "execution_count": 14,
     "metadata": {},
     "output_type": "execute_result"
    }
   ],
   "source": [
    "data['publisher'].isna().value_counts(normalize=True).mul(100)"
   ]
  },
  {
   "cell_type": "code",
   "execution_count": 15,
   "id": "2c388ed4",
   "metadata": {},
   "outputs": [
    {
     "data": {
      "text/plain": [
       "False    99.748442\n",
       "True      0.251558\n",
       "Name: publishedDate, dtype: float64"
      ]
     },
     "execution_count": 15,
     "metadata": {},
     "output_type": "execute_result"
    }
   ],
   "source": [
    "data['publishedDate'].isna().value_counts(normalize=True).mul(100)"
   ]
  },
  {
   "cell_type": "code",
   "execution_count": 16,
   "id": "d8bc07db",
   "metadata": {},
   "outputs": [
    {
     "data": {
      "text/plain": [
       "False    100.0\n",
       "Name: categories, dtype: float64"
      ]
     },
     "execution_count": 16,
     "metadata": {},
     "output_type": "execute_result"
    }
   ],
   "source": [
    "data['categories'].isna().value_counts(normalize=True).mul(100)"
   ]
  },
  {
   "cell_type": "code",
   "execution_count": 17,
   "id": "1167789a",
   "metadata": {},
   "outputs": [],
   "source": [
    "# data.groupby('categories',as_index=False)['Impact'].mean().plot()"
   ]
  },
  {
   "cell_type": "markdown",
   "id": "e3527950",
   "metadata": {},
   "source": [
    "Authors"
   ]
  },
  {
   "cell_type": "code",
   "execution_count": 18,
   "id": "020775d5",
   "metadata": {},
   "outputs": [],
   "source": [
    "import numpy as np"
   ]
  },
  {
   "cell_type": "code",
   "execution_count": 19,
   "id": "013ff8bf",
   "metadata": {},
   "outputs": [],
   "source": [
    "authors_count=data.groupby('authors',as_index=False)['Title'].nunique()"
   ]
  },
  {
   "cell_type": "code",
   "execution_count": 20,
   "id": "b7cbaf1c",
   "metadata": {
    "scrolled": true
   },
   "outputs": [
    {
     "data": {
      "text/plain": [
       "1      82.878633\n",
       "2      10.562091\n",
       "3       3.071686\n",
       "4       1.269437\n",
       "5       0.670412\n",
       "6       0.417973\n",
       "7       0.253474\n",
       "8       0.199675\n",
       "9       0.131392\n",
       "10      0.095182\n",
       "11      0.074490\n",
       "12      0.060006\n",
       "13      0.055868\n",
       "14      0.039314\n",
       "15      0.036211\n",
       "16      0.022761\n",
       "18      0.018623\n",
       "17      0.015519\n",
       "20      0.012415\n",
       "19      0.009311\n",
       "28      0.009311\n",
       "24      0.008277\n",
       "22      0.007242\n",
       "25      0.006208\n",
       "26      0.006208\n",
       "21      0.006208\n",
       "29      0.006208\n",
       "32      0.005173\n",
       "23      0.005173\n",
       "35      0.004138\n",
       "27      0.004138\n",
       "31      0.003104\n",
       "39      0.003104\n",
       "37      0.002069\n",
       "30      0.002069\n",
       "33      0.002069\n",
       "36      0.002069\n",
       "34      0.002069\n",
       "61      0.002069\n",
       "54      0.001035\n",
       "49      0.001035\n",
       "102     0.001035\n",
       "55      0.001035\n",
       "109     0.001035\n",
       "98      0.001035\n",
       "51      0.001035\n",
       "233     0.001035\n",
       "48      0.001035\n",
       "40      0.001035\n",
       "162     0.001035\n",
       "59      0.001035\n",
       "50      0.001035\n",
       "41      0.001035\n",
       "47      0.001035\n",
       "58      0.001035\n",
       "42      0.001035\n",
       "45      0.001035\n",
       "Name: Title, dtype: float64"
      ]
     },
     "execution_count": 20,
     "metadata": {},
     "output_type": "execute_result"
    }
   ],
   "source": [
    "authors_count['Title'].value_counts(normalize=True).mul(100)"
   ]
  },
  {
   "cell_type": "code",
   "execution_count": 21,
   "id": "3925a0a2",
   "metadata": {},
   "outputs": [],
   "source": [
    "authors_impact=data.groupby('authors',as_index=False)['Impact'].mean()"
   ]
  },
  {
   "cell_type": "code",
   "execution_count": 22,
   "id": "86430239",
   "metadata": {},
   "outputs": [],
   "source": [
    "authors_df=authors_count.merge(authors_impact)"
   ]
  },
  {
   "cell_type": "code",
   "execution_count": 23,
   "id": "2ead4405",
   "metadata": {},
   "outputs": [
    {
     "data": {
      "text/html": [
       "<div>\n",
       "<style scoped>\n",
       "    .dataframe tbody tr th:only-of-type {\n",
       "        vertical-align: middle;\n",
       "    }\n",
       "\n",
       "    .dataframe tbody tr th {\n",
       "        vertical-align: top;\n",
       "    }\n",
       "\n",
       "    .dataframe thead th {\n",
       "        text-align: right;\n",
       "    }\n",
       "</style>\n",
       "<table border=\"1\" class=\"dataframe\">\n",
       "  <thead>\n",
       "    <tr style=\"text-align: right;\">\n",
       "      <th></th>\n",
       "      <th>Title</th>\n",
       "      <th>Impact</th>\n",
       "    </tr>\n",
       "  </thead>\n",
       "  <tbody>\n",
       "    <tr>\n",
       "      <th>Title</th>\n",
       "      <td>1.000000</td>\n",
       "      <td>-0.003046</td>\n",
       "    </tr>\n",
       "    <tr>\n",
       "      <th>Impact</th>\n",
       "      <td>-0.003046</td>\n",
       "      <td>1.000000</td>\n",
       "    </tr>\n",
       "  </tbody>\n",
       "</table>\n",
       "</div>"
      ],
      "text/plain": [
       "           Title    Impact\n",
       "Title   1.000000 -0.003046\n",
       "Impact -0.003046  1.000000"
      ]
     },
     "execution_count": 23,
     "metadata": {},
     "output_type": "execute_result"
    }
   ],
   "source": [
    "authors_df.corr()"
   ]
  },
  {
   "cell_type": "code",
   "execution_count": 24,
   "id": "cfff4d40",
   "metadata": {},
   "outputs": [
    {
     "data": {
      "text/plain": [
       "count    80108.000000\n",
       "mean       791.818924\n",
       "std         49.234525\n",
       "min        596.604337\n",
       "25%        770.726964\n",
       "50%        805.568540\n",
       "75%        819.108336\n",
       "max        974.640408\n",
       "Name: Impact, dtype: float64"
      ]
     },
     "execution_count": 24,
     "metadata": {},
     "output_type": "execute_result"
    }
   ],
   "source": [
    "authors_df[authors_df.Title==1]['Impact'].describe()"
   ]
  },
  {
   "cell_type": "code",
   "execution_count": 25,
   "id": "2af947d5",
   "metadata": {},
   "outputs": [
    {
     "data": {
      "text/plain": [
       "count    10209.000000\n",
       "mean       790.890991\n",
       "std         42.364838\n",
       "min        599.911435\n",
       "25%        768.189902\n",
       "50%        796.018296\n",
       "75%        815.697059\n",
       "max        970.938991\n",
       "Name: Impact, dtype: float64"
      ]
     },
     "execution_count": 25,
     "metadata": {},
     "output_type": "execute_result"
    }
   ],
   "source": [
    "authors_df[authors_df.Title==2]['Impact'].describe()"
   ]
  },
  {
   "cell_type": "code",
   "execution_count": 26,
   "id": "c2eeebca",
   "metadata": {},
   "outputs": [
    {
     "data": {
      "text/plain": [
       "count    6340.000000\n",
       "mean      790.780824\n",
       "std        36.409205\n",
       "min       601.777060\n",
       "25%       769.491259\n",
       "50%       793.224998\n",
       "75%       813.278683\n",
       "max       956.340035\n",
       "Name: Impact, dtype: float64"
      ]
     },
     "execution_count": 26,
     "metadata": {},
     "output_type": "execute_result"
    }
   ],
   "source": [
    "authors_df[authors_df.Title>2]['Impact'].describe()"
   ]
  },
  {
   "cell_type": "code",
   "execution_count": 27,
   "id": "1b698a31",
   "metadata": {},
   "outputs": [
    {
     "data": {
      "text/plain": [
       "54.334399999992456"
      ]
     },
     "execution_count": 27,
     "metadata": {},
     "output_type": "execute_result"
    }
   ],
   "source": [
    "np.percentile(authors_df['Title'],99.99)"
   ]
  },
  {
   "cell_type": "code",
   "execution_count": 28,
   "id": "b5670e91",
   "metadata": {},
   "outputs": [
    {
     "data": {
      "text/plain": [
       "count     10.000000\n",
       "mean     791.981442\n",
       "std       12.475913\n",
       "min      774.745684\n",
       "25%      783.021328\n",
       "50%      789.548884\n",
       "75%      799.350619\n",
       "max      814.090917\n",
       "Name: Impact, dtype: float64"
      ]
     },
     "execution_count": 28,
     "metadata": {},
     "output_type": "execute_result"
    }
   ],
   "source": [
    "authors_df[authors_df.Title>=55]['Impact'].describe()"
   ]
  },
  {
   "cell_type": "code",
   "execution_count": 56,
   "id": "6d32a5df",
   "metadata": {},
   "outputs": [
    {
     "data": {
      "text/html": [
       "<div>\n",
       "<style scoped>\n",
       "    .dataframe tbody tr th:only-of-type {\n",
       "        vertical-align: middle;\n",
       "    }\n",
       "\n",
       "    .dataframe tbody tr th {\n",
       "        vertical-align: top;\n",
       "    }\n",
       "\n",
       "    .dataframe thead th {\n",
       "        text-align: right;\n",
       "    }\n",
       "</style>\n",
       "<table border=\"1\" class=\"dataframe\">\n",
       "  <thead>\n",
       "    <tr style=\"text-align: right;\">\n",
       "      <th></th>\n",
       "      <th>authors</th>\n",
       "      <th>Title</th>\n",
       "      <th>Impact</th>\n",
       "    </tr>\n",
       "  </thead>\n",
       "  <tbody>\n",
       "    <tr>\n",
       "      <th>80772</th>\n",
       "      <td>['Rose Arny']</td>\n",
       "      <td>233</td>\n",
       "      <td>785.176493</td>\n",
       "    </tr>\n",
       "    <tr>\n",
       "      <th>55922</th>\n",
       "      <td>['Library of Congress. Copyright Office']</td>\n",
       "      <td>162</td>\n",
       "      <td>793.921275</td>\n",
       "    </tr>\n",
       "    <tr>\n",
       "      <th>390</th>\n",
       "      <td>[\"Louis L'Amour\"]</td>\n",
       "      <td>109</td>\n",
       "      <td>814.090917</td>\n",
       "    </tr>\n",
       "    <tr>\n",
       "      <th>95525</th>\n",
       "      <td>['William Shakespeare']</td>\n",
       "      <td>102</td>\n",
       "      <td>774.745684</td>\n",
       "    </tr>\n",
       "    <tr>\n",
       "      <th>1605</th>\n",
       "      <td>['Agatha Christie']</td>\n",
       "      <td>98</td>\n",
       "      <td>782.847274</td>\n",
       "    </tr>\n",
       "    <tr>\n",
       "      <th>...</th>\n",
       "      <td>...</td>\n",
       "      <td>...</td>\n",
       "      <td>...</td>\n",
       "    </tr>\n",
       "    <tr>\n",
       "      <th>35206</th>\n",
       "      <td>['Heather Lloyd']</td>\n",
       "      <td>1</td>\n",
       "      <td>816.497238</td>\n",
       "    </tr>\n",
       "    <tr>\n",
       "      <th>35205</th>\n",
       "      <td>['Heather Levigne']</td>\n",
       "      <td>1</td>\n",
       "      <td>784.303924</td>\n",
       "    </tr>\n",
       "    <tr>\n",
       "      <th>35204</th>\n",
       "      <td>['Heather Lende']</td>\n",
       "      <td>1</td>\n",
       "      <td>805.568540</td>\n",
       "    </tr>\n",
       "    <tr>\n",
       "      <th>35202</th>\n",
       "      <td>['Heather Kreger', 'Ward Harold', 'Leigh Willi...</td>\n",
       "      <td>1</td>\n",
       "      <td>834.414650</td>\n",
       "    </tr>\n",
       "    <tr>\n",
       "      <th>96656</th>\n",
       "      <td>['편집부편']</td>\n",
       "      <td>1</td>\n",
       "      <td>680.819598</td>\n",
       "    </tr>\n",
       "  </tbody>\n",
       "</table>\n",
       "<p>96657 rows × 3 columns</p>\n",
       "</div>"
      ],
      "text/plain": [
       "                                                 authors  Title      Impact\n",
       "80772                                      ['Rose Arny']    233  785.176493\n",
       "55922          ['Library of Congress. Copyright Office']    162  793.921275\n",
       "390                                    [\"Louis L'Amour\"]    109  814.090917\n",
       "95525                            ['William Shakespeare']    102  774.745684\n",
       "1605                                 ['Agatha Christie']     98  782.847274\n",
       "...                                                  ...    ...         ...\n",
       "35206                                  ['Heather Lloyd']      1  816.497238\n",
       "35205                                ['Heather Levigne']      1  784.303924\n",
       "35204                                  ['Heather Lende']      1  805.568540\n",
       "35202  ['Heather Kreger', 'Ward Harold', 'Leigh Willi...      1  834.414650\n",
       "96656                                           ['편집부편']      1  680.819598\n",
       "\n",
       "[96657 rows x 3 columns]"
      ]
     },
     "execution_count": 56,
     "metadata": {},
     "output_type": "execute_result"
    }
   ],
   "source": [
    "authors_df.sort_values('Title',ascending=False)"
   ]
  },
  {
   "cell_type": "markdown",
   "id": "a2023a28",
   "metadata": {},
   "source": [
    "Publisher"
   ]
  },
  {
   "cell_type": "code",
   "execution_count": 29,
   "id": "4945c6eb",
   "metadata": {},
   "outputs": [
    {
     "data": {
      "text/plain": [
       "1       55.087664\n",
       "2       12.867877\n",
       "3        6.230432\n",
       "4        4.046650\n",
       "5        2.708203\n",
       "          ...    \n",
       "450      0.007827\n",
       "313      0.007827\n",
       "387      0.007827\n",
       "525      0.007827\n",
       "1041     0.007827\n",
       "Name: Title, Length: 235, dtype: float64"
      ]
     },
     "execution_count": 29,
     "metadata": {},
     "output_type": "execute_result"
    }
   ],
   "source": [
    "publisher_count=data.groupby('publisher',as_index=False)['Title'].nunique()\n",
    "publisher_count['Title'].value_counts(normalize=True).mul(100)"
   ]
  },
  {
   "cell_type": "code",
   "execution_count": 30,
   "id": "7fc4fc78",
   "metadata": {},
   "outputs": [],
   "source": [
    "publisher_impact=data.groupby('publisher',as_index=False)['Impact'].mean()"
   ]
  },
  {
   "cell_type": "code",
   "execution_count": 31,
   "id": "7b7e716e",
   "metadata": {},
   "outputs": [],
   "source": [
    "publisher_df=publisher_count.merge(publisher_impact)"
   ]
  },
  {
   "cell_type": "code",
   "execution_count": 32,
   "id": "f0118e64",
   "metadata": {},
   "outputs": [
    {
     "data": {
      "text/html": [
       "<div>\n",
       "<style scoped>\n",
       "    .dataframe tbody tr th:only-of-type {\n",
       "        vertical-align: middle;\n",
       "    }\n",
       "\n",
       "    .dataframe tbody tr th {\n",
       "        vertical-align: top;\n",
       "    }\n",
       "\n",
       "    .dataframe thead th {\n",
       "        text-align: right;\n",
       "    }\n",
       "</style>\n",
       "<table border=\"1\" class=\"dataframe\">\n",
       "  <thead>\n",
       "    <tr style=\"text-align: right;\">\n",
       "      <th></th>\n",
       "      <th>Title</th>\n",
       "      <th>Impact</th>\n",
       "    </tr>\n",
       "  </thead>\n",
       "  <tbody>\n",
       "    <tr>\n",
       "      <th>Title</th>\n",
       "      <td>1.000000</td>\n",
       "      <td>-0.009754</td>\n",
       "    </tr>\n",
       "    <tr>\n",
       "      <th>Impact</th>\n",
       "      <td>-0.009754</td>\n",
       "      <td>1.000000</td>\n",
       "    </tr>\n",
       "  </tbody>\n",
       "</table>\n",
       "</div>"
      ],
      "text/plain": [
       "           Title    Impact\n",
       "Title   1.000000 -0.009754\n",
       "Impact -0.009754  1.000000"
      ]
     },
     "execution_count": 32,
     "metadata": {},
     "output_type": "execute_result"
    }
   ],
   "source": [
    "publisher_df.corr()"
   ]
  },
  {
   "cell_type": "code",
   "execution_count": 33,
   "id": "1e11556a",
   "metadata": {},
   "outputs": [
    {
     "name": "stdout",
     "output_type": "stream",
     "text": [
      "795.6602366276907\n",
      "794.6862545732661\n",
      "793.6092284043057\n",
      "795.3620147388121\n",
      "793.8976384925495\n",
      "792.0699851290115\n"
     ]
    }
   ],
   "source": [
    "print(publisher_df[publisher_df.Title==1]['Impact'].mean())\n",
    "print(publisher_df[publisher_df.Title==2]['Impact'].mean())\n",
    "print(publisher_df[publisher_df.Title==3]['Impact'].mean())\n",
    "print(publisher_df[publisher_df.Title==4]['Impact'].mean())\n",
    "print(publisher_df[publisher_df.Title==5]['Impact'].mean())\n",
    "print(publisher_df[publisher_df.Title>5]['Impact'].mean())"
   ]
  },
  {
   "cell_type": "code",
   "execution_count": 34,
   "id": "dab58338",
   "metadata": {},
   "outputs": [
    {
     "name": "stdout",
     "output_type": "stream",
     "text": [
      "596.8882989192275\n",
      "619.3682781140045\n",
      "609.7181055999849\n",
      "687.5533224031492\n",
      "704.1145473540845\n",
      "618.7072155020346\n"
     ]
    }
   ],
   "source": [
    "print(publisher_df[publisher_df.Title==1]['Impact'].min())\n",
    "print(publisher_df[publisher_df.Title==2]['Impact'].min())\n",
    "print(publisher_df[publisher_df.Title==3]['Impact'].min())\n",
    "print(publisher_df[publisher_df.Title==4]['Impact'].min())\n",
    "print(publisher_df[publisher_df.Title==5]['Impact'].min())\n",
    "print(publisher_df[publisher_df.Title>5]['Impact'].min())"
   ]
  },
  {
   "cell_type": "code",
   "execution_count": 35,
   "id": "ddce6053",
   "metadata": {},
   "outputs": [
    {
     "name": "stdout",
     "output_type": "stream",
     "text": [
      "973.7426270134318\n",
      "931.7974055258048\n",
      "883.3409628451991\n",
      "915.3408544268334\n",
      "873.479780485953\n",
      "898.804634630236\n"
     ]
    }
   ],
   "source": [
    "print(publisher_df[publisher_df.Title==1]['Impact'].max())\n",
    "print(publisher_df[publisher_df.Title==2]['Impact'].max())\n",
    "print(publisher_df[publisher_df.Title==3]['Impact'].max())\n",
    "print(publisher_df[publisher_df.Title==4]['Impact'].max())\n",
    "print(publisher_df[publisher_df.Title==5]['Impact'].max())\n",
    "print(publisher_df[publisher_df.Title>5]['Impact'].max())"
   ]
  },
  {
   "cell_type": "code",
   "execution_count": 60,
   "id": "b72de659",
   "metadata": {},
   "outputs": [
    {
     "name": "stdout",
     "output_type": "stream",
     "text": [
      "1.0\n",
      "1.0\n",
      "4.0\n",
      "29.0\n",
      "150.0\n",
      "267.5\n",
      "1120.8250000001244\n"
     ]
    }
   ],
   "source": [
    "print(np.percentile(publisher_df['Title'],25))\n",
    "print(np.percentile(publisher_df['Title'],50))\n",
    "print(np.percentile(publisher_df['Title'],75))\n",
    "print(np.percentile(publisher_df['Title'],95))\n",
    "print(np.percentile(publisher_df['Title'],99))\n",
    "print(np.percentile(publisher_df['Title'],99.5))\n",
    "print(np.percentile(publisher_df['Title'],99.9))"
   ]
  },
  {
   "cell_type": "code",
   "execution_count": 36,
   "id": "22e9bc26",
   "metadata": {
    "scrolled": true
   },
   "outputs": [
    {
     "data": {
      "text/html": [
       "<div>\n",
       "<style scoped>\n",
       "    .dataframe tbody tr th:only-of-type {\n",
       "        vertical-align: middle;\n",
       "    }\n",
       "\n",
       "    .dataframe tbody tr th {\n",
       "        vertical-align: top;\n",
       "    }\n",
       "\n",
       "    .dataframe thead th {\n",
       "        text-align: right;\n",
       "    }\n",
       "</style>\n",
       "<table border=\"1\" class=\"dataframe\">\n",
       "  <thead>\n",
       "    <tr style=\"text-align: right;\">\n",
       "      <th></th>\n",
       "      <th>publisher</th>\n",
       "      <th>Title</th>\n",
       "      <th>Impact</th>\n",
       "    </tr>\n",
       "  </thead>\n",
       "  <tbody>\n",
       "    <tr>\n",
       "      <th>11050</th>\n",
       "      <td>Tan Books &amp; Pub</td>\n",
       "      <td>3635</td>\n",
       "      <td>805.429809</td>\n",
       "    </tr>\n",
       "    <tr>\n",
       "      <th>10397</th>\n",
       "      <td>Simon and Schuster</td>\n",
       "      <td>3476</td>\n",
       "      <td>794.041556</td>\n",
       "    </tr>\n",
       "    <tr>\n",
       "      <th>10487</th>\n",
       "      <td>Smithsonian Institution</td>\n",
       "      <td>3216</td>\n",
       "      <td>788.289553</td>\n",
       "    </tr>\n",
       "    <tr>\n",
       "      <th>8767</th>\n",
       "      <td>Penguin</td>\n",
       "      <td>2667</td>\n",
       "      <td>788.420738</td>\n",
       "    </tr>\n",
       "    <tr>\n",
       "      <th>12412</th>\n",
       "      <td>Wm. B. Eerdmans Publishing</td>\n",
       "      <td>2563</td>\n",
       "      <td>814.085374</td>\n",
       "    </tr>\n",
       "    <tr>\n",
       "      <th>9821</th>\n",
       "      <td>Routledge</td>\n",
       "      <td>2355</td>\n",
       "      <td>785.379330</td>\n",
       "    </tr>\n",
       "    <tr>\n",
       "      <th>5959</th>\n",
       "      <td>John Wiley &amp; Sons</td>\n",
       "      <td>1924</td>\n",
       "      <td>782.950876</td>\n",
       "    </tr>\n",
       "    <tr>\n",
       "      <th>4898</th>\n",
       "      <td>Harper Collins</td>\n",
       "      <td>1868</td>\n",
       "      <td>783.320207</td>\n",
       "    </tr>\n",
       "    <tr>\n",
       "      <th>2040</th>\n",
       "      <td>Cambridge University Press</td>\n",
       "      <td>1470</td>\n",
       "      <td>789.263285</td>\n",
       "    </tr>\n",
       "    <tr>\n",
       "      <th>69</th>\n",
       "      <td>A&amp;C Black</td>\n",
       "      <td>1348</td>\n",
       "      <td>824.529016</td>\n",
       "    </tr>\n",
       "  </tbody>\n",
       "</table>\n",
       "</div>"
      ],
      "text/plain": [
       "                        publisher  Title      Impact\n",
       "11050             Tan Books & Pub   3635  805.429809\n",
       "10397          Simon and Schuster   3476  794.041556\n",
       "10487     Smithsonian Institution   3216  788.289553\n",
       "8767                      Penguin   2667  788.420738\n",
       "12412  Wm. B. Eerdmans Publishing   2563  814.085374\n",
       "9821                    Routledge   2355  785.379330\n",
       "5959            John Wiley & Sons   1924  782.950876\n",
       "4898               Harper Collins   1868  783.320207\n",
       "2040   Cambridge University Press   1470  789.263285\n",
       "69                      A&C Black   1348  824.529016"
      ]
     },
     "execution_count": 36,
     "metadata": {},
     "output_type": "execute_result"
    }
   ],
   "source": [
    "publisher_df.sort_values(by='Title',ascending=False).head(10)"
   ]
  },
  {
   "cell_type": "code",
   "execution_count": 53,
   "id": "729ef53d",
   "metadata": {},
   "outputs": [
    {
     "data": {
      "image/png": "[encoded data removed]",
      "text/plain": [
       "<Figure size 432x288 with 1 Axes>"
      ]
     },
     "metadata": {
      "needs_background": "light"
     },
     "output_type": "display_data"
    }
   ],
   "source": [
    "plt.hist(publisher_df[publisher_df.Title>500]['Title']);"
   ]
  },
  {
   "cell_type": "markdown",
   "id": "1447955e",
   "metadata": {},
   "source": [
    "Category"
   ]
  },
  {
   "cell_type": "code",
   "execution_count": 37,
   "id": "5daf9e6d",
   "metadata": {},
   "outputs": [
    {
     "data": {
      "text/plain": [
       "107     2.0\n",
       "74      2.0\n",
       "97      2.0\n",
       "101     2.0\n",
       "78      2.0\n",
       "       ... \n",
       "320     1.0\n",
       "1335    1.0\n",
       "158     1.0\n",
       "2429    1.0\n",
       "79      1.0\n",
       "Name: Title, Length: 95, dtype: float64"
      ]
     },
     "execution_count": 37,
     "metadata": {},
     "output_type": "execute_result"
    }
   ],
   "source": [
    "category_count=data.groupby('categories',as_index=False)['Title'].nunique()\n",
    "category_count['Title'].value_counts(normalize=True).mul(100)"
   ]
  },
  {
   "cell_type": "code",
   "execution_count": 38,
   "id": "729ea212",
   "metadata": {},
   "outputs": [],
   "source": [
    "category_impact=data.groupby('categories',as_index=False)['Impact'].mean()"
   ]
  },
  {
   "cell_type": "code",
   "execution_count": 39,
   "id": "0391f00a",
   "metadata": {},
   "outputs": [
    {
     "data": {
      "text/plain": [
       "count    100.000000\n",
       "mean     792.769474\n",
       "std        9.241113\n",
       "min      761.161597\n",
       "25%      787.228954\n",
       "50%      792.872946\n",
       "75%      799.007572\n",
       "max      812.227203\n",
       "Name: Impact, dtype: float64"
      ]
     },
     "execution_count": 39,
     "metadata": {},
     "output_type": "execute_result"
    }
   ],
   "source": [
    "category_impact['Impact'].describe()"
   ]
  },
  {
   "cell_type": "code",
   "execution_count": 40,
   "id": "578f9c73",
   "metadata": {},
   "outputs": [
    {
     "data": {
      "image/png": "[encoded data removed]",
      "text/plain": [
       "<Figure size 432x288 with 1 Axes>"
      ]
     },
     "metadata": {
      "needs_background": "light"
     },
     "output_type": "display_data"
    }
   ],
   "source": [
    "plt.hist(category_count['Title']);"
   ]
  },
  {
   "cell_type": "code",
   "execution_count": 41,
   "id": "233316ab",
   "metadata": {},
   "outputs": [
    {
     "data": {
      "text/html": [
       "<div>\n",
       "<style scoped>\n",
       "    .dataframe tbody tr th:only-of-type {\n",
       "        vertical-align: middle;\n",
       "    }\n",
       "\n",
       "    .dataframe tbody tr th {\n",
       "        vertical-align: top;\n",
       "    }\n",
       "\n",
       "    .dataframe thead th {\n",
       "        text-align: right;\n",
       "    }\n",
       "</style>\n",
       "<table border=\"1\" class=\"dataframe\">\n",
       "  <thead>\n",
       "    <tr style=\"text-align: right;\">\n",
       "      <th></th>\n",
       "      <th>categories</th>\n",
       "      <th>Title</th>\n",
       "    </tr>\n",
       "  </thead>\n",
       "  <tbody>\n",
       "    <tr>\n",
       "      <th>49</th>\n",
       "      <td>['Fiction']</td>\n",
       "      <td>22630</td>\n",
       "    </tr>\n",
       "    <tr>\n",
       "      <th>84</th>\n",
       "      <td>['Religion']</td>\n",
       "      <td>9356</td>\n",
       "    </tr>\n",
       "    <tr>\n",
       "      <th>58</th>\n",
       "      <td>['History']</td>\n",
       "      <td>9223</td>\n",
       "    </tr>\n",
       "    <tr>\n",
       "      <th>63</th>\n",
       "      <td>['Juvenile Fiction']</td>\n",
       "      <td>6572</td>\n",
       "    </tr>\n",
       "    <tr>\n",
       "      <th>17</th>\n",
       "      <td>['Biography &amp; Autobiography']</td>\n",
       "      <td>6193</td>\n",
       "    </tr>\n",
       "    <tr>\n",
       "      <th>...</th>\n",
       "      <td>...</td>\n",
       "      <td>...</td>\n",
       "    </tr>\n",
       "    <tr>\n",
       "      <th>99</th>\n",
       "      <td>['Young Adult Nonfiction']</td>\n",
       "      <td>79</td>\n",
       "    </tr>\n",
       "    <tr>\n",
       "      <th>28</th>\n",
       "      <td>['Christianity']</td>\n",
       "      <td>78</td>\n",
       "    </tr>\n",
       "    <tr>\n",
       "      <th>82</th>\n",
       "      <td>['Railroads']</td>\n",
       "      <td>78</td>\n",
       "    </tr>\n",
       "    <tr>\n",
       "      <th>20</th>\n",
       "      <td>['Brothers and sisters']</td>\n",
       "      <td>74</td>\n",
       "    </tr>\n",
       "    <tr>\n",
       "      <th>14</th>\n",
       "      <td>['Automobiles']</td>\n",
       "      <td>74</td>\n",
       "    </tr>\n",
       "  </tbody>\n",
       "</table>\n",
       "<p>100 rows × 2 columns</p>\n",
       "</div>"
      ],
      "text/plain": [
       "                       categories  Title\n",
       "49                    ['Fiction']  22630\n",
       "84                   ['Religion']   9356\n",
       "58                    ['History']   9223\n",
       "63           ['Juvenile Fiction']   6572\n",
       "17  ['Biography & Autobiography']   6193\n",
       "..                            ...    ...\n",
       "99     ['Young Adult Nonfiction']     79\n",
       "28               ['Christianity']     78\n",
       "82                  ['Railroads']     78\n",
       "20       ['Brothers and sisters']     74\n",
       "14                ['Automobiles']     74\n",
       "\n",
       "[100 rows x 2 columns]"
      ]
     },
     "execution_count": 41,
     "metadata": {},
     "output_type": "execute_result"
    }
   ],
   "source": [
    "category_count.sort_values(by='Title',ascending=False)"
   ]
  },
  {
   "cell_type": "code",
   "execution_count": 47,
   "id": "2c4f0247",
   "metadata": {},
   "outputs": [
    {
     "data": {
      "text/plain": [
       "count      100.000000\n",
       "mean      1363.500000\n",
       "std       2758.158347\n",
       "min         74.000000\n",
       "25%        113.000000\n",
       "50%        439.000000\n",
       "75%       1678.750000\n",
       "max      22630.000000\n",
       "Name: Title, dtype: float64"
      ]
     },
     "execution_count": 47,
     "metadata": {},
     "output_type": "execute_result"
    }
   ],
   "source": [
    "category_count['Title'].describe()"
   ]
  },
  {
   "cell_type": "code",
   "execution_count": 48,
   "id": "5e1c2704",
   "metadata": {},
   "outputs": [],
   "source": [
    "# Split Authors in 1,2,2+\n",
    "# Split Publishers in  5,30,150,250,1000\n",
    "# Categories Quantile Bins\n"
   ]
  },
  {
   "cell_type": "code",
   "execution_count": 61,
   "id": "8b1a4878",
   "metadata": {},
   "outputs": [],
   "source": [
    "#####"
   ]
  },
  {
   "cell_type": "code",
   "execution_count": null,
   "id": "7bd260e3",
   "metadata": {},
   "outputs": [],
   "source": []
  }
 ],
 "metadata": {
  "kernelspec": {
   "display_name": "Python 3 (ipykernel)",
   "language": "python",
   "name": "python3"
  },
  "language_info": {
   "codemirror_mode": {
    "name": "ipython",
    "version": 3
   },
   "file_extension": ".py",
   "mimetype": "text/x-python",
   "name": "python",
   "nbconvert_exporter": "python",
   "pygments_lexer": "ipython3",
   "version": "3.9.12"
  }
 },
 "nbformat": 4,
 "nbformat_minor": 5
}
